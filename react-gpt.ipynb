{
 "cells": [
  {
   "cell_type": "markdown",
   "metadata": {},
   "source": [
    "## Prerequisites"
   ]
  },
  {
   "cell_type": "markdown",
   "metadata": {},
   "source": [
    "To run this example, you need an OpenAI API key."
   ]
  },
  {
   "cell_type": "markdown",
   "metadata": {},
   "source": [
    "## ReAct with GPT-4o"
   ]
  },
  {
   "cell_type": "markdown",
   "metadata": {},
   "source": [
    "### Install & import dependencies"
   ]
  },
  {
   "cell_type": "code",
   "execution_count": null,
   "metadata": {},
   "outputs": [],
   "source": [
    "%pip install --upgrade --quiet langchain langchain_openai langchainhub "
   ]
  },
  {
   "cell_type": "code",
   "execution_count": null,
   "metadata": {},
   "outputs": [],
   "source": [
    "from langchain import hub\n",
    "from langchain.tools import tool\n",
    "from langchain.agents import AgentExecutor, create_structured_chat_agent\n",
    "from langchain_openai import ChatOpenAI"
   ]
  },
  {
   "cell_type": "markdown",
   "metadata": {},
   "source": [
    "### Enable LangSmith tracing"
   ]
  },
  {
   "cell_type": "code",
   "execution_count": null,
   "metadata": {},
   "outputs": [],
   "source": [
    "# LangSmith tracing\n",
    "# import os\n",
    "# os.environ[\"LANGCHAIN_TRACING_V2\"] = \"true\"\n",
    "# os.environ[\"LANGCHAIN_PROJECT\"] = \"Demo1\"\n",
    "# os.environ[\"LANGCHAIN_API_KEY\"] = \"<Your LangSmith API key>\""
   ]
  },
  {
   "cell_type": "markdown",
   "metadata": {},
   "source": [
    "### ReAct with GPT-4o"
   ]
  },
  {
   "cell_type": "code",
   "execution_count": null,
   "metadata": {},
   "outputs": [],
   "source": [
    "# Define tools\n",
    "\n",
    "thermostat_temperature=18\n",
    "\n",
    "@tool\n",
    "def get_thermostat_temperature():\n",
    "  \"Returns the current thermostat temperature in Celsius.\"\n",
    "\n",
    "  print(f\"\\n\\nTOOL: Getting thermostat temperature: {thermostat_temperature}°C\\n\\n\")\n",
    "\n",
    "  return thermostat_temperature\n",
    "\n",
    "@tool\n",
    "def set_thermostat_temperature(temperature_celsius: int):\n",
    "  \"Sets the specified temperature to the thermostat in Celsius.\"\n",
    "\n",
    "  global thermostat_temperature\n",
    "\n",
    "  thermostat_temperature = temperature_celsius\n",
    "  print(f\"\\n\\nTOOL: Setting thermostat temperature: {thermostat_temperature}°C\\n\\n\")\n",
    "\n",
    "\n",
    "  return \"Success\""
   ]
  },
  {
   "cell_type": "code",
   "execution_count": null,
   "metadata": {},
   "outputs": [],
   "source": [
    "# Pull ReAct prompt template. See: https://smith.langchain.com/hub/hwchase17/structured-chat-agent?organizationId=6e7cb68e-d5eb-56c1-8a8a-5a32467e2996\n",
    "prompt = hub.pull(\"hwchase17/structured-chat-agent\")\n",
    "\n",
    "# Create an instance of ChatGPT integration\n",
    "llm = ChatOpenAI(model_name=\"gpt-4o\", openai_api_key=\"<Your OpenAi API key>\")\n",
    "\n",
    "# Create an agent and an agent executor\n",
    "tools = [get_thermostat_temperature, set_thermostat_temperature]\n",
    "agent = create_structured_chat_agent(llm, tools, prompt)\n",
    "agent_executor = AgentExecutor(agent=agent, tools=tools, verbose=True, handle_parsing_errors=True)"
   ]
  },
  {
   "cell_type": "code",
   "execution_count": null,
   "metadata": {},
   "outputs": [],
   "source": [
    "# Execute the agent with the specified input\n",
    "agent_executor.invoke({\"input\": \"I'm freezing, can you do something?\"})"
   ]
  }
 ],
 "metadata": {
  "kernelspec": {
   "display_name": ".venv",
   "language": "python",
   "name": "python3"
  },
  "language_info": {
   "codemirror_mode": {
    "name": "ipython",
    "version": 3
   },
   "file_extension": ".py",
   "mimetype": "text/x-python",
   "name": "python",
   "nbconvert_exporter": "python",
   "pygments_lexer": "ipython3",
   "version": "3.10.11"
  }
 },
 "nbformat": 4,
 "nbformat_minor": 2
}
